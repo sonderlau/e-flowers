{
 "cells": [
  {
   "cell_type": "code",
   "execution_count": 1,
   "metadata": {},
   "outputs": [],
   "source": [
    "from PIL import Image, ImageEnhance\n",
    "import os\n",
    "import cv2\n",
    "import numpy as np"
   ]
  },
  {
   "cell_type": "code",
   "execution_count": 28,
   "metadata": {},
   "outputs": [],
   "source": [
    "origin = Image.open('./Grade_1_1.jpg')\n",
    "\n",
    "origin_array = np.array(origin)\n",
    "\n",
    "shape = origin_array.shape\n",
    "\n",
    "\n",
    "for x in range(shape[0]):\n",
    "    for y in range(shape[1]):\n",
    "        (b,g,r) = origin_array[x][y]\n",
    "        \n",
    "        r = int(r) \n",
    "        g = int(g)\n",
    "        b = int(b)\n",
    "        \n",
    "        if max(r, g, b) <= 110  and min(r, g, b) >= 65:\n",
    "            origin_array[x][y] = (255,255,255)\n",
    "\n",
    "origin = Image.fromarray(origin_array)\n",
    "\n",
    "origin.save('transformed.jpg')"
   ]
  }
 ],
 "metadata": {
  "interpreter": {
   "hash": "091b90bf1abe3437a740d86be5ed9412939e2bef3791e02c7ef688151f295d5b"
  },
  "kernelspec": {
   "display_name": "Python 3.8.12 ('d2l')",
   "language": "python",
   "name": "python3"
  },
  "language_info": {
   "codemirror_mode": {
    "name": "ipython",
    "version": 3
   },
   "file_extension": ".py",
   "mimetype": "text/x-python",
   "name": "python",
   "nbconvert_exporter": "python",
   "pygments_lexer": "ipython3",
   "version": "3.9.10"
  },
  "orig_nbformat": 4
 },
 "nbformat": 4,
 "nbformat_minor": 2
}
