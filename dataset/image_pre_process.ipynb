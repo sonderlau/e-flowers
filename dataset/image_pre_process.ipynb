{
 "cells": [
  {
   "cell_type": "code",
   "execution_count": 5,
   "metadata": {},
   "outputs": [],
   "source": [
    "import os\n",
    "from PIL import Image"
   ]
  },
  {
   "cell_type": "code",
   "execution_count": null,
   "metadata": {},
   "outputs": [],
   "source": []
  },
  {
   "cell_type": "code",
   "execution_count": 13,
   "metadata": {},
   "outputs": [],
   "source": [
    "path_prefix_origin = './origin/'\n",
    "path_prefix_processed = './processed'\n",
    "for grade in os.listdir(path_prefix_origin):\n",
    "    cnt = 0\n",
    "    for image in os.listdir(os.path.join(path_prefix_origin , grade)):\n",
    "        # 读入\n",
    "        original_image_path = os.path.join(path_prefix_origin , grade, image)\n",
    "        image_read = Image.open(original_image_path)\n",
    "        \n",
    "        # 缩放大小\n",
    "        resized = image_read.resize((229, 229), Image.LANCZOS)\n",
    "        \n",
    "        # 文件名\n",
    "        file_name = f\"{grade}_{cnt}\"\n",
    "        \n",
    "        processed_save_path_prefix = os.path.join(path_prefix_processed, grade)\n",
    "        \n",
    "        # print(os.path.join(processed_save_path_prefix, file_name))\n",
    "        \n",
    "        # 原版 保存\n",
    "        resized.save(os.path.join(processed_save_path_prefix, file_name), \"JPEG\")\n",
    "        \n",
    "        # 左右翻转\n",
    "        resized.transpose(Image.FLIP_LEFT_RIGHT).save(os.path.join(processed_save_path_prefix, file_name + \"_LR\"), \"JPEG\")\n",
    "        \n",
    "        # 上下翻转\n",
    "        resized.transpose(Image.FLIP_TOP_BOTTOM).save(os.path.join(processed_save_path_prefix, file_name + \"_TB\"), \"JPEG\")\n",
    "        \n",
    "        # 镜面翻转\n",
    "        resized.transpose(Image.FLIP_LEFT_RIGHT).transpose(Image.FLIP_TOP_BOTTOM).save(os.path.join(processed_save_path_prefix, file_name + \"_LRTB\"), \"JPEG\")\n",
    "        \n",
    "        cnt += 1\n",
    "        "
   ]
  },
  {
   "cell_type": "code",
   "execution_count": null,
   "metadata": {},
   "outputs": [],
   "source": []
  }
 ],
 "metadata": {
  "interpreter": {
   "hash": "201f1b4038dffb4c6751655281afe604dea13cfaed561b9843a99ea909229d43"
  },
  "kernelspec": {
   "display_name": "Python 3.9.10 ('base')",
   "language": "python",
   "name": "python3"
  },
  "language_info": {
   "codemirror_mode": {
    "name": "ipython",
    "version": 3
   },
   "file_extension": ".py",
   "mimetype": "text/x-python",
   "name": "python",
   "nbconvert_exporter": "python",
   "pygments_lexer": "ipython3",
   "version": "3.9.10"
  },
  "orig_nbformat": 4
 },
 "nbformat": 4,
 "nbformat_minor": 2
}
